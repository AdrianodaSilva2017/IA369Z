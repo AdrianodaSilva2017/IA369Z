{
 "cells": [
  {
   "cell_type": "markdown",
   "metadata": {},
   "source": [
    "## Funções"
   ]
  },
  {
   "cell_type": "code",
   "execution_count": 1,
   "metadata": {},
   "outputs": [],
   "source": [
    "#MSE - Cálculo do Erro Quadrático Médio\n",
    "def mse(imageA, imageB):\n",
    "    err = np.sum((imageA.astype(\"float\") - imageB.astype(\"float\")) ** 2)\n",
    "    err /= float(imageA.shape[0] * imageA.shape[1])\n",
    "    return err\n",
    "\n",
    "#def annotate_axes(img):\n",
    "#    for i, ax in enumerate(img.axes):\n",
    "#        ax.text(0.5, 0.5, \"ax%d\" % (i+1), va=\"center\", ha=\"center\")\n",
    "#        ax.tick_params(labelbottom=False, labelleft=False)\n",
    "\n",
    "#Adequação da Resolução Radiométrica\n",
    "def adequacao_resolucao(lamina):\n",
    "    #Aplicar redução da resolução radiométrica.\n",
    "    laminafloat = lamina.astype ( float )\n",
    "    lamina_adequada = (np.maximum (laminafloat, 0 ) / laminafloat.max ()) * 255.0\n",
    "    lamina_adequada = np.uint8 (lamina_adequada)\n",
    "    return lamina_adequada"
   ]
  },
  {
   "cell_type": "code",
   "execution_count": null,
   "metadata": {},
   "outputs": [],
   "source": []
  }
 ],
 "metadata": {
  "kernelspec": {
   "display_name": "Python 3",
   "language": "python",
   "name": "python3"
  },
  "language_info": {
   "codemirror_mode": {
    "name": "ipython",
    "version": 3
   },
   "file_extension": ".py",
   "mimetype": "text/x-python",
   "name": "python",
   "nbconvert_exporter": "python",
   "pygments_lexer": "ipython3",
   "version": "3.7.1"
  }
 },
 "nbformat": 4,
 "nbformat_minor": 2
}
