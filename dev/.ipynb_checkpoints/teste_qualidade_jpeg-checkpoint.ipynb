{
 "cells": [
  {
   "cell_type": "markdown",
   "metadata": {},
   "source": [
    "## Teste qualidade JPEG"
   ]
  },
  {
   "cell_type": "code",
   "execution_count": null,
   "metadata": {},
   "outputs": [],
   "source": [
    "import pydicom\n",
    "import pickle\n",
    "import numpy as np\n",
    "import matplotlib.pyplot as plt\n",
    "from skimage import measure\n",
    "from PIL import Image\n",
    "import matplotlib.patches as patches\n",
    "import sys\n",
    "#param = sys.argv[1:]\n"
   ]
  },
  {
   "cell_type": "code",
   "execution_count": null,
   "metadata": {},
   "outputs": [],
   "source": [
    "lamina = pickle.load(open('../data/lamina.pkl', 'rb'))\n",
    "lamina_adequada = pickle.load(open('../data/lamina_adequada.pkl', 'rb'))\n",
    "print(lamina_adequada)\n",
    "Imagem_Adequada=Image.fromarray(lamina_adequada)\n",
    "\n",
    "tempfilename=\"../images/temp.jpg\"\n",
    "filetype=\"jpeg\"\n",
    "qualidade=100\n",
    "quali_min=1\n",
    "foradafaixa=0\n",
    "ssim_list=[]\n",
    "while (qualidade>0):\n",
    "    Imagem_Adequada.save(tempfilename, filetype, quality=qualidade)\n",
    "    ImagemTemp_jpeg = Image.open(tempfilename)\n",
    "    laminaTemp_jpeg = np.array(ImagemTemp_jpeg)\n",
    "    s = measure.compare_ssim(lamina, laminaTemp_jpeg)\n",
    "    ssim_list.append(s)\n",
    "    if (s<0.985555 and foradafaixa==0):\n",
    "        foradafaixa=1\n",
    "    else:\n",
    "        if (foradafaixa==0):\n",
    "            quali_min=qualidade\n",
    "    qualidade-=1\n",
    "\n",
    "plt.plot( ssim_list )\n",
    "plt.title(\"Qualidade\")\n",
    "plt.show()\n",
    "\n",
    "print(\"MSE : %.2f\" % m )\n",
    "print(\"SSIM: %.2f\" % s )"
   ]
  }
 ],
 "metadata": {
  "kernelspec": {
   "display_name": "Python 3",
   "language": "python",
   "name": "python3"
  },
  "language_info": {
   "codemirror_mode": {
    "name": "ipython",
    "version": 3
   },
   "file_extension": ".py",
   "mimetype": "text/x-python",
   "name": "python",
   "nbconvert_exporter": "python",
   "pygments_lexer": "ipython3",
   "version": "3.7.1"
  }
 },
 "nbformat": 4,
 "nbformat_minor": 2
}
