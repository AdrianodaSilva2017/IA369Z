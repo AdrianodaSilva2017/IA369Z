{
 "cells": [
  {
   "cell_type": "markdown",
   "metadata": {},
   "source": [
    "## Comparar Imagens"
   ]
  },
  {
   "cell_type": "code",
   "execution_count": null,
   "metadata": {},
   "outputs": [],
   "source": [
    "import pydicom\n",
    "import pickle\n",
    "import numpy as np\n",
    "import matplotlib.pyplot as plt\n",
    "from skimage import measure\n",
    "from PIL import Image\n",
    "import matplotlib.patches as patches\n",
    "import sys\n",
    "#param = sys.argv[1:]\n",
    "\n",
    "param = pickle.load(open('../var/comparar_imagens.pkl', 'rb'))"
   ]
  },
  {
   "cell_type": "markdown",
   "metadata": {},
   "source": [
    "## Carregar Imagens"
   ]
  },
  {
   "cell_type": "code",
   "execution_count": null,
   "metadata": {},
   "outputs": [],
   "source": [
    "nome_imagem1=param[0]\n",
    "nome_imagem2=param[1]\n",
    "\n",
    "lamina1 = pickle.load(open('../data/'+nome_imagem1+'.pkl', 'rb'))\n",
    "lamina2 = pickle.load(open('../data/'+nome_imagem2+'.pkl', 'rb'))\n",
    "\n",
    "fig=plt.figure(figsize=(17, 17))\n",
    "fig.add_subplot(1, 2, 1)\n",
    "plt.imshow(lamina1, cmap='gray')\n",
    "plt.axis(\"off\")\n",
    "plt.title(nome_imagem1)\n",
    "\n",
    "lamina_adequada=adequacao_resolucao(lamina)\n",
    "fig.add_subplot(1, 2, 2)\n",
    "plt.imshow(lamina2, cmap='gray')\n",
    "plt.title(nome_imagem2)\n",
    "\n",
    "plt.axis(\"off\")\n",
    "\n",
    "plt.show()\n",
    "m = mse(lamina1, lamina2)\n",
    "s = measure.compare_ssim(lamina1, lamina2)\n",
    "print(\"MSE : %.2f\" % m )\n",
    "print(\"SSIM: %.2f\" % s )"
   ]
  }
 ],
 "metadata": {
  "kernelspec": {
   "display_name": "Python 3",
   "language": "python",
   "name": "python3"
  },
  "language_info": {
   "codemirror_mode": {
    "name": "ipython",
    "version": 3
   },
   "file_extension": ".py",
   "mimetype": "text/x-python",
   "name": "python",
   "nbconvert_exporter": "python",
   "pygments_lexer": "ipython3",
   "version": "3.7.1"
  }
 },
 "nbformat": 4,
 "nbformat_minor": 2
}
