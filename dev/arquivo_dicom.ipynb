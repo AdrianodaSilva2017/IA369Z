{
 "cells": [
  {
   "cell_type": "markdown",
   "metadata": {},
   "source": [
    "# Selecionando o registro DICOM"
   ]
  },
  {
   "cell_type": "code",
   "execution_count": 1,
   "metadata": {},
   "outputs": [],
   "source": [
    "import pydicom\n",
    "import pickle\n",
    "nome_arquivo=pickle.load(open('../var/aquivo_dicom.pkl', 'rb'))\n",
    "dados = pydicom.dcmread(nome_arquivo)"
   ]
  },
  {
   "cell_type": "markdown",
   "metadata": {},
   "source": [
    "# Dados do Paciente"
   ]
  },
  {
   "cell_type": "code",
   "execution_count": 6,
   "metadata": {},
   "outputs": [
    {
     "name": "stdout",
     "output_type": "stream",
     "text": [
      "Nome do arquivo       :\n",
      "../images/000001_VBM_6min.dcm\n",
      "\n",
      "Tipo de armazenamento :\n",
      "1.2.840.10008.5.1.4.1.1.4.1\n",
      "\n",
      "Nome do paciente      : , \n",
      "Identificação         : \n",
      "Modalidade            : MR\n",
      "Data do estudo        : 20130202\n",
      "Dimensões da imagem   : 240 x 240\n",
      "20736000 bytes\n",
      "\n",
      "Local das lâminas     : (missing)\n",
      "Número de Lâminas     : 180\n"
     ]
    }
   ],
   "source": [
    "nome = dados.PatientName\n",
    "nomeCompleto = nome.family_name + \", \" + nome.given_name\n",
    "\n",
    "print(\"Nome do arquivo       :\")\n",
    "print (nome_arquivo)\n",
    "print (\"\")\n",
    "print(\"Tipo de armazenamento :\")\n",
    "print (dados.SOPClassUID)\n",
    "print (\"\")\n",
    "print(\"Nome do paciente      :\", nomeCompleto)\n",
    "print(\"Identificação         :\", dados.PatientID)\n",
    "print(\"Modalidade            :\", dados.Modality)\n",
    "print(\"Data do estudo        :\", dados.StudyDate)\n",
    "\n",
    "if 'PixelData' in dados:\n",
    "    rows = int(dados.Rows)\n",
    "    cols = int(dados.Columns)\n",
    "    print(\"Dimensões da imagem   : {rows:d} x {cols:d}\".format(rows=rows, cols=cols))\n",
    "    print(\"{size:d} bytes\".format(size=len(dados.PixelData)))\n",
    "    print(\"\")\n",
    "    if 'PixelSpacing' in dados:\n",
    "        print(\"Pixel spacing     :\", dados.PixelSpacing)\n",
    "\n",
    "print(\"Local das lâminas     :\", dados.get('SliceLocation', \"(missing)\"))\n",
    "\n",
    "laminas=dados.pixel_array\n",
    "\n",
    "print(\"Número de Lâminas     :\", len(laminas))"
   ]
  },
  {
   "cell_type": "code",
   "execution_count": 3,
   "metadata": {},
   "outputs": [],
   "source": [
    "pickle.dump(laminas, open('../data/Laminas.pkl', 'wb'), protocol=pickle.HIGHEST_PROTOCOL)"
   ]
  },
  {
   "cell_type": "code",
   "execution_count": null,
   "metadata": {},
   "outputs": [],
   "source": []
  }
 ],
 "metadata": {
  "kernelspec": {
   "display_name": "Python 3",
   "language": "python",
   "name": "python3"
  },
  "language_info": {
   "codemirror_mode": {
    "name": "ipython",
    "version": 3
   },
   "file_extension": ".py",
   "mimetype": "text/x-python",
   "name": "python",
   "nbconvert_exporter": "python",
   "pygments_lexer": "ipython3",
   "version": "3.7.1"
  }
 },
 "nbformat": 4,
 "nbformat_minor": 2
}
