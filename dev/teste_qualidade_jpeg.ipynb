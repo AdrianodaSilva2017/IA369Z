{
 "cells": [
  {
   "cell_type": "markdown",
   "metadata": {},
   "source": [
    "## Teste qualidade JPEG"
   ]
  },
  {
   "cell_type": "code",
   "execution_count": 5,
   "metadata": {},
   "outputs": [],
   "source": [
    "import pydicom\n",
    "import pickle\n",
    "import numpy as np\n",
    "import matplotlib.pyplot as plt\n",
    "from skimage import measure\n",
    "from PIL import Image\n",
    "import matplotlib.patches as patches\n",
    "import sys\n",
    "#param = sys.argv[1:]\n"
   ]
  },
  {
   "cell_type": "code",
   "execution_count": 6,
   "metadata": {},
   "outputs": [],
   "source": [
    "%run ../dev/funcoes.ipynb"
   ]
  },
  {
   "cell_type": "code",
   "execution_count": 49,
   "metadata": {},
   "outputs": [
    {
     "data": {
      "image/png": "[encoded data removed]",
      "text/plain": [
       "<Figure size 720x360 with 2 Axes>"
      ]
     },
     "metadata": {
      "needs_background": "light"
     },
     "output_type": "display_data"
    }
   ],
   "source": [
    "imgarray = pickle.load(open('../data/recorte_raw.pkl', 'rb'))\n",
    "imgarray_adequada = adequacao_resolucao(imgarray)\n",
    "\n",
    "\n",
    "Imagem_Adequada=Image.fromarray(imgarray_adequada)\n",
    "\n",
    "tempfilename=\"../images/temp.jpg\"\n",
    "filetype=\"jpeg\"\n",
    "qualidade=100\n",
    "quali_min=1\n",
    "foradafaixa=0\n",
    "ssim_list=[]\n",
    "mse_list=[]\n",
    "while (qualidade>0):\n",
    "    Imagem_Adequada.save(tempfilename, filetype, quality=qualidade)\n",
    "    ImagemTemp_jpeg = Image.open(tempfilename)\n",
    "    arrayTemp_jpeg = np.array(ImagemTemp_jpeg)\n",
    "    m = mse(imgarray, arrayTemp_jpeg)\n",
    "    s = ssim(imgarray, arrayTemp_jpeg)\n",
    "    \n",
    "    ssim_list.append(s)\n",
    "    mse_list.append(m)\n",
    "    if (s<0.985555 and foradafaixa==0):\n",
    "        foradafaixa=1\n",
    "    else:\n",
    "        if (foradafaixa==0):\n",
    "            quali_min=qualidade\n",
    "    qualidade-=1\n",
    "\n",
    "fig=plt.figure(figsize=(10, 5))\n",
    "\n",
    "fig.add_subplot(1, 2, 1)\n",
    "plt.plot( ssim_list )\n",
    "plt.axis(\"off\")\n",
    "plt.title(\"SSIM\")\n",
    "\n",
    "fig.add_subplot(1, 2, 2)\n",
    "plt.plot( mse_list )\n",
    "plt.title(\"MSE\")\n",
    "\n",
    "plt.axis(\"off\")\n",
    "    \n",
    "#plt.gca().invert_xaxis()\n",
    "#plt.gca().invert_yaxis()\n",
    "\n",
    "plt.show()\n",
    "\n"
   ]
  },
  {
   "cell_type": "code",
   "execution_count": null,
   "metadata": {},
   "outputs": [],
   "source": []
  }
 ],
 "metadata": {
  "kernelspec": {
   "display_name": "Python 3",
   "language": "python",
   "name": "python3"
  },
  "language_info": {
   "codemirror_mode": {
    "name": "ipython",
    "version": 3
   },
   "file_extension": ".py",
   "mimetype": "text/x-python",
   "name": "python",
   "nbconvert_exporter": "python",
   "pygments_lexer": "ipython3",
   "version": "3.7.1"
  }
 },
 "nbformat": 4,
 "nbformat_minor": 2
}
