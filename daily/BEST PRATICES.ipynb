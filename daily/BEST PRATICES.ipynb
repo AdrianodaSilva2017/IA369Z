{
 "cells": [
  {
   "cell_type": "markdown",
   "metadata": {},
   "source": [
    "# Diário de melhores páticas\n",
    "Best Pratices Daily <br>\n",
    "Adriano da Silva <br>\n",
    "Unicamp - FEEC - Pós-graduação - RA 262097 <br>\n",
    "Reprodutibilidade em pesquisa computacional - IA369Z - 1o. Semestre de 2019<br>\n",
    "Profa. Leticia Rittner"
   ]
  },
  {
   "cell_type": "markdown",
   "metadata": {},
   "source": [
    "Este projeto foi concebido no intuito de atender aos requisitos do curso de reprodutibilidade em pesquisa computacional. Este projeto tem finalidade meramente educacional."
   ]
  },
  {
   "cell_type": "markdown",
   "metadata": {},
   "source": [
    "Este documento visa listar as melhores práticas percebidas por este autor/aluno ao longo do projeto para a criação de um artigo executável e reprodutível."
   ]
  },
  {
   "cell_type": "markdown",
   "metadata": {},
   "source": [
    "## Visão sobre reprodutibilidade\n",
    "\n",
    "Tendo em vista a grande quantidade de pesquisas e artigos que são produzidos, observando-se também a as dificuldades para a replicação das mesmas, a reprodutibilidade vem se tornando cada vez mais requisitada por publicadores e em todo o universo acadêmico. Uma pesquisa reprodutível é uma pesquisa cuja qual pode ser reproduzida por terceiros, em outro tempo e onde possa se obter resultados coerentes em relação aos obtidos na pesquisa original.\n"
   ]
  },
  {
   "cell_type": "markdown",
   "metadata": {},
   "source": [
    "### Preparação para o início do projeto"
   ]
  },
  {
   "cell_type": "markdown",
   "metadata": {},
   "source": [
    "#### Domínio do tema"
   ]
  },
  {
   "cell_type": "markdown",
   "metadata": {},
   "source": [
    "Para iniciar qualquer projeto tenha bem definido, logo de início, os objetivos da pesquisa que será realizada. Parece óbvio, mas minha experiência indica a necessidade de frizar este ponto. Tenha ao menos uma idéia sobre os métodos que, ao menos de início, pretende empreender para a realização da pesquisa e os possíveis resultados esperados. Assim, procure determinar também as ferramentas básicas que serão utilizadas o quanto antes, mesmo que sejam mudadas ao longo do projeto."
   ]
  },
  {
   "cell_type": "markdown",
   "metadata": {},
   "source": [
    "Fazer uma pesquisa reprodutível requer também, necessariamente, fazer um artigo executável.  Esta execução (do artigo) pode ser automatizada dentro do próprio texto do artigo (o que é, na medida do possível, desejável) ou pode ser realizada manualmente, conforme o artigo descreva o passo a passo. Após definido com clareza o tema e objetivos da pesquisa, procure conhecer o que é um artigo executável, saber para que serve e como manipular um. Se possível, tenha contato e tente manipular alguns. Tenha em mente que, quanto mais automatizado for a execução do artigo, melhor será para a reprodutibilidade dele."
   ]
  },
  {
   "cell_type": "markdown",
   "metadata": {},
   "source": [
    "### Código"
   ]
  },
  {
   "cell_type": "markdown",
   "metadata": {},
   "source": [
    "#### Linguagem de programação"
   ]
  },
  {
   "cell_type": "markdown",
   "metadata": {},
   "source": [
    "Considere sempre optar por ferramentas e linguagens de programação que já tenha o domínio. Lembre-se que aprender a fazer um artigo reprodutível já é um trabalho naturalmente complexo e requer bastante tempo e dedicação. O aprendizado de uma nova linguagem de programação, concomitante ao aprendizado de outras ferramentas que certamente serão introduzidas, bem como dos próprios conceitos de reprodutibilidade, podem tormar um tempo maior do que o previsto. Não subestime. <br>\n",
    "\n",
    "- Considere também quem Python é uma linguagem bastante conhecida pela comunidade científica o que pode ajudar a conseguir alguma facilida de suporte.\n",
    "\n",
    "https://www.python.org/"
   ]
  },
  {
   "cell_type": "markdown",
   "metadata": {},
   "source": [
    "#### Literate computing"
   ]
  },
  {
   "cell_type": "markdown",
   "metadata": {},
   "source": [
    "A ferramenta Jupyter Notebook é excelente para utilização de pesquisas e acompanhamento das etapas passo a passo, principalmente em pequenos experimentos.\n",
    "\n",
    "- A ferramenta é simples de usar, mas não subestime a complexidade do conjunto de funcionalidades que a ferramenta oferece e que certamente serão úteis para um bom artigo.\n",
    "\n",
    "https://jupyter.org/"
   ]
  },
  {
   "cell_type": "markdown",
   "metadata": {},
   "source": [
    "### Documentação:"
   ]
  },
  {
   "cell_type": "markdown",
   "metadata": {},
   "source": [
    " #### Dicas de como escrever o artigo"
   ]
  },
  {
   "cell_type": "markdown",
   "metadata": {},
   "source": [
    "- Procure sempre escrever o artigo em um idioma que domine completamente, inclusive no caso da aplicação de termos técnicos que envolvam o projeto. Caso precise escrever em um idioma cujo qual não tenha o total domínio, tenha auxílio de alguém que o tenha e que ajude sempre a revisar todo o texto. <br>\n",
    "- Fique atento para a clareza do texto, tendo sempre em vista que um terceiro irá ler e tentar compreender, muitas vezes, um assunto complexo oriundo de um contexto que ele ainda possa não estar completamente inserido. <br>"
   ]
  },
  {
   "cell_type": "markdown",
   "metadata": {},
   "source": [
    " - Procure criar uma estrutura de diretórios organizada para armazenamento dos diversos tipos de arquivos que compõe a pesquisa. Crie pastas com nomes simples e que aludam ao significado dos arquivos que estão dentro. <br>\n",
    "<br>\n",
    "Exemplos: <br>\n",
    "    - Pasta \"data\" para armazenamento dos arquivos de dados que serão utilizados na pesquisa. <br>\n",
    "    - Pasta \"dev\" para armazenamento dos arquivos de código fonte que manipulam e preparam dados da pesquisa. <br>\n",
    "    - Pasta \"deliver\" para armazenamento dos arquivos de código fonte que relatam ou entregam os dados em forma de artigo, bem como os arquivos de entrega do artigo propriamente ditos. <br>\n",
    "    - Pasta \"daily\" para armazenamento de um arquivo de diário de boas práticas. <br>\n",
    "    - Pasta \"image\" para armazenamento de imagens utilizadas no projeto. <br>\n",
    "    - Pasta \"env\" para armazenamento de arquivos de configuração do ambiente. <br>\n",
    "    - Pasta \"var\" para armazenamento de variáveis serializadas no projeto. <br>\n",
    "<br>"
   ]
  },
  {
   "cell_type": "markdown",
   "metadata": {},
   "source": [
    "- Não esquecer de anotar o link dos sites onde são encontradas dicas para posteriormente colocar nas referências.<br>"
   ]
  },
  {
   "cell_type": "markdown",
   "metadata": {},
   "source": [
    "#### Link para o leitor do artigo iniciar a reprodução do mesmo"
   ]
  },
  {
   "cell_type": "markdown",
   "metadata": {},
   "source": [
    "Não esqueça de colocar no texto final do artigo, a indicação de um link ou descrição de onde o leitor poderá encontrar os arquivos para que a experiência possa ser baixada e/ou reproduzida (um link para uma página específica de um site onde esteja hospedada a experiência, um repositório para download). Lembre-se que é à partir do texto final do artigo que o leitor iniciará a busca por informações para a reprodução da experiência. <br>"
   ]
  },
  {
   "cell_type": "markdown",
   "metadata": {},
   "source": [
    "#### Ferramentas para documentação"
   ]
  },
  {
   "cell_type": "markdown",
   "metadata": {},
   "source": [
    "Aqui também é importante destacar a ferramenta Jupyter Notebook que pode, além de auxiliar na execução das pequenas tarefas do experimento, pode ajudar na documentação. Abre-se um parêntese aqui para destacar plugins como o nbconvert, pdflatex e bibitex que ajudam a automatizar a geração do artigo em PDF.<br>\n",
    "\n",
    "Dicas:\n",
    "    - dedique um tempo para pesquisar essas ferramentas e seus funcionamentos;\n",
    "    - Conhecimento sobre o editor latex pode ajudar;\n",
    "    \n",
    "http://theoval.cmp.uea.ac.uk/~nlct/latex/pdfdoc/pdfdoc/pdfdoc.html"
   ]
  },
  {
   "cell_type": "markdown",
   "metadata": {},
   "source": [
    "#### Arquivo README"
   ]
  },
  {
   "cell_type": "markdown",
   "metadata": {},
   "source": [
    "Crie um arquivo README e coloque as instruções em um passo-a-passo minuncioso para que o leitor possa realizar a reprodução da experiência. Indique o caminho completo e por qual o arquivo ele deverá iniciar a leitura e em que ordem e quais arquivos deverá abrir e ler mais instruções até que consiga iniciar e realizar toda a experiência. <br>\n",
    "Indique também dentro deste arquivo README, informações sobre os arquivos de licença de software e de dados do projeto, bem como qualquer outra informação adicional relevante para o leitor."
   ]
  },
  {
   "cell_type": "markdown",
   "metadata": {},
   "source": [
    "### Testes"
   ]
  },
  {
   "cell_type": "markdown",
   "metadata": {},
   "source": [
    "Após o término do artigo, faça testes de reprodutibilidade, tentando reproduzir o artigo passo a passo conforme descrito nos textos e tutoriais que tenham as instruções que auxiliam a reprodução. Faça esses testes em computadores diferentes do utilizado para o desenvolvimento das pesquisas. Neste tipo de teste é possível perceber pontos de falhas na reprodutibilidade."
   ]
  },
  {
   "cell_type": "markdown",
   "metadata": {},
   "source": [
    "### Ambiente e Distribuição"
   ]
  },
  {
   "cell_type": "markdown",
   "metadata": {},
   "source": [
    "#### Docker"
   ]
  },
  {
   "cell_type": "markdown",
   "metadata": {},
   "source": [
    "O Docker é uma ferramenta baseada em container de sistema operacional e pode ser muito interessante para a criação de um ambiente para execução de um experimento em diferentes computadores, o que o torna uma ferramenta muito útil para a reprodutibilidade.<br>\n",
    "\n",
    "Com o Docker você empacota todas as ferramentas e bibliotecas utilizadas e até mesmo os dados podem ser armazenados no interior de um contaiener, facilitando a vida de quem irá reproduzir o experimento. <br>\n",
    "\n",
    "O Docker possui ainda a ferramenta Docker Compose, que facilita ainda mais o gerenciamento de vários containers que podem ser necessários ao experimento e simplifica as execuções. <br>\n",
    "\n",
    "Links:\t\thttps://docs.docker.com/install/\n",
    "\t\t\thttps://docs.docker.com/docker-for-windows/install/\n",
    "\t\t\thttps://docs.docker.com/docker-for-mac/install/\n"
   ]
  },
  {
   "cell_type": "markdown",
   "metadata": {},
   "source": [
    "- Docker Compose:\n",
    "Em relação ao Docker Compose, tenha cuidado pois a versão do arquivo YML de configuração depende da versão do seu docker-engine, sendo que muitos comandos só existem à partir de determiada versão do arquivo YML, não estando disponíveis para todos.<br> \n",
    "Vale ressaltar também atenção para caminhos relativos. O comando \"-security-opt seccomp:./chrome.json\", por exemplo, não é aceito pela ferramenta por conta do caminho relativo, obrigando a colocar um caminho absoluto para a localização do arquivo json, o que amarra o ambiente e dificulta a distribuição. <br>\n",
    "Além disso, atente para a necessidade de instalar a ferramenta docker-compose no ambiente onde for rodar o container através da ferramenta.<br>\n",
    "No caso desta pesquisa, foi mais interessante rodar o ambiente através do comando docker run e não pelo Docker compose."
   ]
  },
  {
   "cell_type": "markdown",
   "metadata": {},
   "source": [
    "#### Git Hub\n",
    "\n",
    "O repositório do Git-hub e a ferramenta git auxiliam no controle de versão do software, além de possbilitar a distribuição de todo o experimento, inclusive os dados. <br>\n",
    "\n",
    "Dica:\n",
    "    - Fique atento para o tamanho dos dados que serão armazenados em repositório na internet;\n",
    "    \n",
    "https://github.com/github\n",
    "    "
   ]
  },
  {
   "cell_type": "markdown",
   "metadata": {},
   "source": [
    "### Dados"
   ]
  },
  {
   "cell_type": "markdown",
   "metadata": {},
   "source": [
    "Deve-se buscar ao máximo alternativas para se conseguir que os dados das pesquisas estejam disponíveis para quem precisar reproduzir. Isso pode significar que os dados devam estar armazenados em algum repositório da internet. <br>\n",
    "\n",
    "Conforme já dito em outros tópicos, os dados podem também estar armazenados em containers Docker (e assim ficar no próprio Docker-hub, quanto também diretamente no Git Hub. Vale ressaltar apenas a necessidade de se observar os limites de armazenamento destes repositórios, bem como a dificuldade de trafegar grandes quantidades de dados pela internet.<br>\n"
   ]
  },
  {
   "cell_type": "markdown",
   "metadata": {},
   "source": [
    "### Workflow\n",
    "\n",
    "O Workflow é um recurso importante quando se está a realizar pesquisas relativamente grandes, de onde se necessita executar vários experimentos em diferentes etapas e tais ferramentas podem ajudar na visualização e até no orquestramento da execução de cada passo. <br>\n",
    "\n",
    "Entretanto, em pesquisas menores e com poucas etapas, pode ser um recurso dispensável. <br>\n",
    "\n",
    "Uma ferramenta válida para o desenho de workflows é o Draw.io.\n",
    "\n",
    "https://www.draw.io/"
   ]
  },
  {
   "cell_type": "code",
   "execution_count": null,
   "metadata": {},
   "outputs": [],
   "source": []
  }
 ],
 "metadata": {
  "kernelspec": {
   "display_name": "Python 3",
   "language": "python",
   "name": "python3"
  },
  "language_info": {
   "codemirror_mode": {
    "name": "ipython",
    "version": 3
   },
   "file_extension": ".py",
   "mimetype": "text/x-python",
   "name": "python",
   "nbconvert_exporter": "python",
   "pygments_lexer": "ipython3",
   "version": "3.7.1"
  }
 },
 "nbformat": 4,
 "nbformat_minor": 2
}
