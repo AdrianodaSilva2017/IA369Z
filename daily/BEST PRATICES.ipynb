{
 "cells": [
  {
   "cell_type": "markdown",
   "metadata": {},
   "source": [
    "# Diário de melhores páticas\n",
    "Best Pratices Daily <br>\n",
    "Adriano da Silva <br>\n",
    "Unicamp - FEEC - Pós-graduação - RA 262097 <br>\n",
    "Reprodutibilidade em pesquisa computacional - IA369Z - 1o. Semestre de 2019<br>\n",
    "Profa. Leticia Rittner"
   ]
  },
  {
   "cell_type": "markdown",
   "metadata": {},
   "source": [
    "Este projeto foi concebido no intuito de atender aos requisitos do curso de reprodutibilidade em pesquisa computacional. Este projeto tem finalidade meramente educacional."
   ]
  },
  {
   "cell_type": "markdown",
   "metadata": {},
   "source": [
    "Este documento visa listar as melhores práticas percebidas por este autor/aluno ao longo do projeto para a criação de um artigo executável e reprodutível."
   ]
  },
  {
   "cell_type": "markdown",
   "metadata": {},
   "source": [
    "### Preparação para o início do projeto"
   ]
  },
  {
   "cell_type": "markdown",
   "metadata": {},
   "source": [
    "#### Domínio do tema"
   ]
  },
  {
   "cell_type": "markdown",
   "metadata": {},
   "source": [
    "Para iniciar qualquer projeto tenha bem definido, logo de início, os objetivos da pesquisa que será realizada. Parece óbvio, mas minha experiência indica a necessidade de frizar este ponto. Tenha ao menos uma idéia sobre os métodos que, ao menos de início, pretende empreender para a realização da pesquisa e os possíveis resultados esperados."
   ]
  },
  {
   "cell_type": "markdown",
   "metadata": {},
   "source": [
    "Fazer uma pesquisa reprodutível requer também fazer um artigo executável.  Esta execução (do artigo) pode ser automatizada dentro do próprio texto do artigo (o que é, na medida do possível, desejável) ou pode ser realizada manualmente, conforme o artigo descreva o passo a passo. Após definido com clareza o tema e objetivos da pesquisa, procure conhecer o que é um artigo executável, saber para que serve e como manipular um. Se possível, tenha contato e tente manipular alguns. Tenha em mente que, quanto mais automatizado for a execução do artigo, melhor será para a reprodutibilidade dele."
   ]
  },
  {
   "cell_type": "markdown",
   "metadata": {},
   "source": [
    "### Linguagem de programação"
   ]
  },
  {
   "cell_type": "markdown",
   "metadata": {},
   "source": [
    "Considere sempre optar por ferramentas e linguagens de programação que já tenha o domínio. Lembre-se que aprender a fazer um artigo reprodutível já é um trabalho naturalmente complexo e requer bastante tempo e dedicação. O aprendizado de uma nova linguagem de programação, concomitante ao aprendizado de outras ferramentas que certamente serão introduzidas, bem como dos próprios conceitos de reprodutibilidade, podem tormar um tempo maior do que o previsto. Não subestime."
   ]
  },
  {
   "cell_type": "markdown",
   "metadata": {},
   "source": [
    "### Dicas de como escrever o artigo"
   ]
  },
  {
   "cell_type": "markdown",
   "metadata": {},
   "source": [
    "- Procure sempre escrever o artigo em um idioma que domine completamente, inclusive no caso da aplicação de termos técnicos que envolvam o projeto. Caso precise escrever em um idioma cujo qual não tenha o total domínio, tenha auxílio de alguém que o tenha e que ajude sempre a revisar todo o texto. <br>\n",
    "- Fique atento para a clareza do texto, tendo sempre em vista que um terceiro irá ler e tentar compreender, muitas vezes, um assunto complexo oriundo de um contexto que ele ainda possa não estar completamente inserido. <br>"
   ]
  },
  {
   "cell_type": "markdown",
   "metadata": {},
   "source": [
    " - Procure criar uma estrutura de diretórios organizada para armazenamento dos diversos tipos de arquivos que compõe a pesquisa. Crie pastas com nomes simples e que aludam ao significado dos arquivos que estão dentro. <br>\n",
    "<br>\n",
    "Exemplos: <br>\n",
    "    - Pasta \"data\" para armazenamento dos arquivos de dados que serão utilizados na pesquisa. <br>\n",
    "    - Pasta \"dev\" para armazenamento dos arquivos de código fonte que manipulam e preparam dados da pesquisa. <br>\n",
    "    - Pasta \"deliver\" para armazenamento dos arquivos de código fonte que relatam ou entregam os dados em forma de artigo, bem como os arquivos de entrega do artigo propriamente ditos. <br>\n",
    "    - Pasta \"daily\" para armazenamento de um arquivo de diário de boas práticas. <br>\n",
    "    - Pasta \"image\" para armazenamento de imagens utilizadas no projeto. <br>\n",
    "    - Pasta \"var\" para armazenamento de variáveis serializadas no projeto. <br>\n",
    "<br>"
   ]
  },
  {
   "cell_type": "markdown",
   "metadata": {},
   "source": [
    "- Não esquecer de anotar o link dos sites onde são encontradas dicas para posteriormente colocar nas referências.<br>"
   ]
  },
  {
   "cell_type": "markdown",
   "metadata": {},
   "source": [
    "### Link para o leitor do artigo iniciar a reprodução do mesmo"
   ]
  },
  {
   "cell_type": "markdown",
   "metadata": {},
   "source": [
    "Não esqueça de colocar no texto final do artigo, a indicação de um link ou descrição de onde o leitor poderá encontrar os arquivos para que a experiência possa ser baixada e/ou reproduzida (um link para uma página específica de um site onde esteja hospedada a experiência, um repositório para download). Lembre-se que é à partir do texto final do artigo que o leitor iniciará a busca por informações para a reprodução da experiência. <br>"
   ]
  },
  {
   "cell_type": "markdown",
   "metadata": {},
   "source": [
    "### Arquivo README"
   ]
  },
  {
   "cell_type": "markdown",
   "metadata": {},
   "source": [
    "Crie um arquivo README e coloque as instruções em um passo-a-passo minuncioso para que o leitor possa realizar a reprodução da experiência. Indique o caminho completo e por qual o arquivo ele deverá iniciar a leitura e em que ordem e quais arquivos deverá abrir e ler mais instruções até que consiga iniciar e realizar toda a experiência. <br>\n",
    "Indique também dentro deste arquivo README, informações sobre os arquivos de licença de software e de dados do projeto, bem como qualquer outra informação adicional relevante para o leitor."
   ]
  },
  {
   "cell_type": "markdown",
   "metadata": {},
   "source": [
    "### Testes"
   ]
  },
  {
   "cell_type": "markdown",
   "metadata": {},
   "source": [
    "Após o término do artigo, faça testes de reprodutibilidade, tentando reproduzir o artigo passo a passo conforme descrito nos textos e tutoriais que tenham as instruções que auxiliam a reprodução. Faça esses testes em computadores diferentes do utilizado para o desenvolvimento das pesquisas. Neste tipo de teste é possível perceber pontos de falhas na reprodutibilidade."
   ]
  },
  {
   "cell_type": "markdown",
   "metadata": {},
   "source": [
    "### Docker"
   ]
  },
  {
   "cell_type": "markdown",
   "metadata": {},
   "source": [
    "- Docker Compose:\n",
    "Em relação ao Docker Compose, tenha cuidado pois a versão do arquivo YML de configuração depende da versão do seu docker-engine, sendo que muitos comandos só existem à partir de determiada versão do arquivo YML, não estando disponíveis para todos.<br> \n",
    "Vale ressaltar também atenção para caminhos relativos. O comando \"-security-opt seccomp:./chrome.json\", por exemplo, não é aceito pela ferramenta por conta do caminho relativo, obrigando a colocar um caminho absoluto para a localização do arquivo json, o que amarra o ambiente e dificulta a distribuição. <br>\n",
    "Além disso, atente para a necessidade de instalar a ferramenta docker-compose no ambiente onde for rodar o container através da ferramenta.<br>\n",
    "No caso desta pesquisa, foi mais interessante rodar o ambiente através do comando docker run e não pelo Docker compose."
   ]
  },
  {
   "cell_type": "code",
   "execution_count": null,
   "metadata": {},
   "outputs": [],
   "source": []
  }
 ],
 "metadata": {
  "kernelspec": {
   "display_name": "Python 3",
   "language": "python",
   "name": "python3"
  },
  "language_info": {
   "codemirror_mode": {
    "name": "ipython",
    "version": 3
   },
   "file_extension": ".py",
   "mimetype": "text/x-python",
   "name": "python",
   "nbconvert_exporter": "python",
   "pygments_lexer": "ipython3",
   "version": "3.7.1"
  }
 },
 "nbformat": 4,
 "nbformat_minor": 2
}
