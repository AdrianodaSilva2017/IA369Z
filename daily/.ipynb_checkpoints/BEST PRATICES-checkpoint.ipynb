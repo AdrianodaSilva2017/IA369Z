{
 "cells": [
  {
   "cell_type": "markdown",
   "metadata": {},
   "source": [
    "# Diário de melhores páticas\n",
    "Best Pratices Daily\n",
    "Adriano da Silva\n",
    "Unicamp - FEEC - Pós-graduação - RA 262097\n",
    "Profa. Leticia Rittner"
   ]
  },
  {
   "cell_type": "markdown",
   "metadata": {},
   "source": [
    "Este documento visa listar as melhores práticas percebidas por este autor ao longo do projeto para a produção de uma pesquisa reproduzível."
   ]
  },
  {
   "cell_type": "markdown",
   "metadata": {},
   "source": [
    "1-) Procure criar uma estrutura de diretórios organizada para armazenamento dos diversos tipos de arquivos que compõe a pesquisa.\n",
    "Exemplo: \n",
    " - Pasta \"data\" para armazenamento dos arquivos de dados que serão utilizados na pesquisa.\n",
    " - Pasta \"dev\" para armazenamento dos arquivos de código fonte que estão em desenvolvimento.\n",
    " - Pasta \"delivery\" para armazenamento dos arquivos de código fonte que estão prontos.\n",
    " - Pasta \"daily\" para armazenamento de um arquivo de diário de boas práticas.\n",
    " - Pasta \"image\" para armazenamento de imagens utilizadas no projeto.\n",
    "\n",
    "2-) Não esquecer de anotar o link dos sites onde são encontradas dicas para posteriormente colocar nas referências.\n",
    "\n",
    "​"
   ]
  },
  {
   "cell_type": "code",
   "execution_count": null,
   "metadata": {},
   "outputs": [],
   "source": []
  }
 ],
 "metadata": {
  "kernelspec": {
   "display_name": "Python 3",
   "language": "python",
   "name": "python3"
  },
  "language_info": {
   "codemirror_mode": {
    "name": "ipython",
    "version": 3
   },
   "file_extension": ".py",
   "mimetype": "text/x-python",
   "name": "python",
   "nbconvert_exporter": "python",
   "pygments_lexer": "ipython3",
   "version": "3.7.1"
  }
 },
 "nbformat": 4,
 "nbformat_minor": 2
}
