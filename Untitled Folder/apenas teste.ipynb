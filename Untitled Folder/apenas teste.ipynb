{
 "cells": [
  {
   "cell_type": "code",
   "execution_count": 1,
   "metadata": {},
   "outputs": [
    {
     "name": "stdout",
     "output_type": "stream",
     "text": [
      "0       False\n",
      "1       False\n",
      "2       False\n",
      "3       False\n",
      "4       False\n",
      "5       False\n",
      "6       False\n",
      "7       False\n",
      "8       False\n",
      "9       False\n",
      "10      False\n",
      "11      False\n",
      "12      False\n",
      "13      False\n",
      "14      False\n",
      "15      False\n",
      "16      False\n",
      "17      False\n",
      "18      False\n",
      "19      False\n",
      "20       True\n",
      "21      False\n",
      "22      False\n",
      "23      False\n",
      "24      False\n",
      "25      False\n",
      "26      False\n",
      "27      False\n",
      "28      False\n",
      "29      False\n",
      "        ...  \n",
      "1428    False\n",
      "1429    False\n",
      "1430    False\n",
      "1431    False\n",
      "1432    False\n",
      "1433    False\n",
      "1434    False\n",
      "1435    False\n",
      "1436    False\n",
      "1437    False\n",
      "1438    False\n",
      "1439    False\n",
      "1440    False\n",
      "1441    False\n",
      "1442    False\n",
      "1443    False\n",
      "1444    False\n",
      "1445    False\n",
      "1446    False\n",
      "1447    False\n",
      "1448    False\n",
      "1449    False\n",
      "1450    False\n",
      "1451    False\n",
      "1452    False\n",
      "1453    False\n",
      "1454    False\n",
      "1455    False\n",
      "1456    False\n",
      "1457    False\n",
      "Name: ISO_code, Length: 1458, dtype: bool\n"
     ]
    }
   ],
   "source": [
    "#%config IPCompleter.greedy=true\n",
    "import pandas as pd\n",
    "world=pd.read_csv('../data/hfi_cc_2018.csv')\n",
    "is_brazil=(world['ISO_code']=='BRA')\n",
    "print(is_brazil)"
   ]
  },
  {
   "cell_type": "code",
   "execution_count": null,
   "metadata": {},
   "outputs": [],
   "source": []
  }
 ],
 "metadata": {
  "kernelspec": {
   "display_name": "Python 3",
   "language": "python",
   "name": "python3"
  },
  "language_info": {
   "codemirror_mode": {
    "name": "ipython",
    "version": 3
   },
   "file_extension": ".py",
   "mimetype": "text/x-python",
   "name": "python",
   "nbconvert_exporter": "python",
   "pygments_lexer": "ipython3",
   "version": "3.7.1"
  }
 },
 "nbformat": 4,
 "nbformat_minor": 2
}
