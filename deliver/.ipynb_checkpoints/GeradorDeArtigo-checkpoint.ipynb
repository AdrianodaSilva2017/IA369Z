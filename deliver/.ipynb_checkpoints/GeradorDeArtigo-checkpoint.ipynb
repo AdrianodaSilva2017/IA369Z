{
 "cells": [
  {
   "cell_type": "code",
   "execution_count": 5,
   "metadata": {},
   "outputs": [
    {
     "name": "stderr",
     "output_type": "stream",
     "text": [
      "[NbConvertApp] Converting notebook VerificationOfCompressionMethodForDicomImages.ipynb to pdf\n",
      "[NbConvertApp] Support files will be in VerificationOfCompressionMethodForDicomImages_files/\n",
      "[NbConvertApp] Making directory ./VerificationOfCompressionMethodForDicomImages_files\n",
      "[NbConvertApp] Making directory ./VerificationOfCompressionMethodForDicomImages_files\n",
      "[NbConvertApp] Making directory ./VerificationOfCompressionMethodForDicomImages_files\n",
      "[NbConvertApp] Writing 28024 bytes to ./notebook.tex\n",
      "[NbConvertApp] Building PDF\n",
      "[NbConvertApp] Running xelatex 3 times: ['xelatex', './notebook.tex']\n",
      "[NbConvertApp] Running bibtex 1 time: ['bibtex', './notebook']\n",
      "[NbConvertApp] WARNING | bibtex had problems, most likely because there were no citations\n",
      "[NbConvertApp] PDF successfully created\n",
      "[NbConvertApp] Writing 265438 bytes to VerificationOfCompressionMethodForDicomImages.pdf\n"
     ]
    }
   ],
   "source": [
    "%%bash\n",
    "jupyter nbconvert VerificationOfCompressionMethodForDicomImages.ipynb --template citations.tplx --to latex\n",
    "pdflatex VerificationOfCompressionMethodForDicomImages.tex\n",
    "bibtex VerificationOfCompressionMethodForDicomImages\n",
    "pdflatex VerificationOfCompressionMethodForDicomImages.tex\n"
   ]
  },
  {
   "cell_type": "code",
   "execution_count": null,
   "metadata": {},
   "outputs": [],
   "source": []
  },
  {
   "cell_type": "code",
   "execution_count": null,
   "metadata": {},
   "outputs": [],
   "source": []
  }
 ],
 "metadata": {
  "kernelspec": {
   "display_name": "Python 3",
   "language": "python",
   "name": "python3"
  },
  "language_info": {
   "codemirror_mode": {
    "name": "ipython",
    "version": 3
   },
   "file_extension": ".py",
   "mimetype": "text/x-python",
   "name": "python",
   "nbconvert_exporter": "python",
   "pygments_lexer": "ipython3",
   "version": "3.7.1"
  }
 },
 "nbformat": 4,
 "nbformat_minor": 2
}
